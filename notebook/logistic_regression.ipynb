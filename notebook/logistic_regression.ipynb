{
 "cells": [
  {
   "cell_type": "markdown",
   "metadata": {},
   "source": [
    "## 引言"
   ]
  },
  {
   "cell_type": "markdown",
   "metadata": {},
   "source": [
    "这篇文章主要介绍逻辑回归背后的一些概率概念，给你一些直观感觉关于它的代价函数的由来。并且我也介绍了关于最大似然估计（maximum likelihood）的概念，用这个强大的工具来导出逻辑回归的cost函数。接着，我用scikit-learn训练了感知机模型来让你熟悉scikit-learn，最后用scikit-learn来训练逻辑回归，并作出决策边界图，效果还算不错。"
   ]
  },
  {
   "cell_type": "markdown",
   "metadata": {},
   "source": [
    "### 逻辑函数(logistic function)"
   ]
  },
  {
   "cell_type": "markdown",
   "metadata": {},
   "source": [
    "逻辑函数由于它的S形，有时也被称为sigmoid函数。比值比（odds ratio）的概念，它可以被写成 $\\frac{p}{1-p}$其中的p代表正事件（positive event）的概率，正事件并不是代表好的方面的概率，而是代表我们想要预测的事件。比如：病人患有某种疾病的概率。我们把正事件的类标签设置为1。比值比的对数称为Logit函数，它可以写成如下形式：$$logit(p)=\\log\\frac{p}{1−p}$$"
   ]
  },
  {
   "cell_type": "markdown",
   "metadata": {},
   "source": [
    "它的函数图像如下："
   ]
  },
  {
   "cell_type": "markdown",
   "metadata": {},
   "source": [
    "![Text](logit.png)"
   ]
  },
  {
   "cell_type": "markdown",
   "metadata": {},
   "source": [
    "从图像上我们可以看出，logit函数输入0到1的值并把它们转换为整个实数范围内的值。上面的p代表正事件的概率，因此在给定特征向量x的条件下，类别y=1的概率可以写成P(y=1|x)。大家都知道概率的范围为0到1，如果我把这个概率传递给logit函数那么它的输出范围是整个实数，因此如果我用某些合适的权重向量w参数化特征向量x后，可以有如下等式：\n",
    "$$\n",
    "logit(P(y=1 \\mid x)) = w_0*x_0+w_1*x_1+⋯+w_n*x_n=\\sum_{i=0}^n w_i*x_i\n",
    "$$"
   ]
  },
  {
   "cell_type": "markdown",
   "metadata": {},
   "source": [
    "但是在实际应用中，我们更想求的是P(y=1|x)，因此，我们需要找到logit函数的反函数，通过输入权重向量w来参数化的x，来输出我们想要知道的正事件的概率，即P(y=1|x)。而这个反函数就是我们的sigmoid函数，它可以写成$S(h) = \\frac{1}{1 + e^{-h}}$ ，公式中的h为样本特征和权重的线性组合，即$w_0*x_0+w_1*x_1+⋯+w_n*x_n$。下面我们来画出这个函数图像的样子："
   ]
  },
  {
   "cell_type": "code",
   "execution_count": 16,
   "metadata": {},
   "outputs": [
    {
     "data": {
      "image/png": "[encoded data removed]",
      "text/plain": [
       "<Figure size 432x288 with 1 Axes>"
      ]
     },
     "metadata": {
      "needs_background": "light"
     },
     "output_type": "display_data"
    }
   ],
   "source": [
    "import matplotlib.pyplot as plt\n",
    "import numpy as np\n",
    "\n",
    "def sigmoid(h):\n",
    "    return 1.0 / (1.0 + np.exp(-h))\n",
    "\n",
    "h = np.arange(-10, 10, 0.1) # 定义x的范围，像素为0.1\n",
    "s_h = sigmoid(h) # sigmoid为上面定义的函数\n",
    "plt.plot(h, s_h)\n",
    "plt.axvline(0.0, color='k') # 在坐标轴上加一条竖直的线，0.0为竖直线在坐标轴上的位置\n",
    "plt.axhspan(0.0, 1.0, facecolor='1.0', alpha=1.0, ls='dotted') # 加水平间距通过坐标轴\n",
    "plt.axhline(y=0.5, ls='dotted', color='k') # 加水线通过坐标轴\n",
    "plt.yticks([0.0, 0.5, 1.0]) # 加y轴刻度\n",
    "plt.ylim(-0.1, 1.1) # 加y轴范围\n",
    "plt.xlabel('h')\n",
    "plt.ylabel('$S(h)$')\n",
    "plt.show()"
   ]
  },
  {
   "cell_type": "markdown",
   "metadata": {},
   "source": [
    "从上图我们可以看出，函数接收整个实数范围的输入，输出0到1之间的数。因此$S(w_0*x_0+w_1*x_1+⋯+w_n*x_n)=P(y=1\\mid x;w)$，这个概率我们可以解释成：给定用权重w参数化后的特征x，样本属于类别1的概率。通过阶跃函数（step function），我们可以得到如下公式："
   ]
  },
  {
   "cell_type": "markdown",
   "metadata": {},
   "source": [
    "$$f(n) = \\begin{cases}\n",
    "1 & if S(h)≥0.5 \\\\\n",
    "0 & otherwise \\\\\n",
    "\\end{cases}$$"
   ]
  },
  {
   "cell_type": "markdown",
   "metadata": {},
   "source": [
    "实际上，很多应用不只仅仅是想得到一个类标签，而是算出属于某个类别的概率。比如逻辑回归就是这样的，它不是告诉你是否患有疾病，而是告诉你有多大概率患有这个疾病。\n",
    "\n",
    "在上面的例子当中，我们一直都看到权重w的出现，那么我们如何学习出最佳的权重w呢？在告诉你答案之前，让我们先复习一下最大似然估计（maximum likelihood）的概念。"
   ]
  },
  {
   "cell_type": "markdown",
   "metadata": {},
   "source": [
    "### 最大似然估计（maximum likelihood）"
   ]
  },
  {
   "cell_type": "markdown",
   "metadata": {},
   "source": [
    "这个方法的本质就是：选择最佳的参数值w，来最大化我们样本数据的可能性。\n",
    "假设我们给定样本$X_1,X_2,X_3,…,X_n$，那么我可以写出一个关于参数w的可能性函数，如下："
   ]
  },
  {
   "cell_type": "markdown",
   "metadata": {},
   "source": [
    "$$lik(w) = f(X_1,X_2,X_3,…,X_n \\mid w)$$"
   ]
  },
  {
   "cell_type": "markdown",
   "metadata": {},
   "source": [
    "实际上，可能性函数就是样本数据作为参数w的函数的概率。如果$X_1,X_2,X_3,…,X_n$相互之间是独立的，可能性函数可以简化成如下形式："
   ]
  },
  {
   "cell_type": "markdown",
   "metadata": {},
   "source": [
    "$$lik(w)=\\prod_i^nf(X_i \\mid w)$$"
   ]
  },
  {
   "cell_type": "markdown",
   "metadata": {},
   "source": [
    "但是，如果我们有很多的样本数据呢？这时，你就会乘上很多项，这些项通常都很小，可能性函数就会变得很小。因此，可采用log函数。\n",
    "\n",
    "第一，如果在可能性很小的时候它可以防止潜在的数值下溢。\n",
    "\n",
    "第二，我们把乘积转换为求和，这可以使我们更加容易求得函数的导数。\n",
    "\n",
    "第三，log函数是单调的，最大化可能性函数的值也就是最大化log可能性函数的值。\n",
    "\n",
    "log可能性函数公式如下："
   ]
  },
  {
   "cell_type": "markdown",
   "metadata": {},
   "source": [
    "$$l(w) = log(lik(w)) = \\sum_{i=1}^n log(f(X_i \\mid w))$$"
   ]
  },
  {
   "cell_type": "markdown",
   "metadata": {},
   "source": [
    "### 逻辑回归的cost函数"
   ]
  },
  {
   "cell_type": "markdown",
   "metadata": {},
   "source": [
    "现在，我们可以用可能性函数来定义上面的权重w了。公式如下："
   ]
  },
  {
   "cell_type": "markdown",
   "metadata": {},
   "source": [
    "$$L(w) = \\prod_{i=1}^n P(y^{(i)} \\mid x^{(i)};w) = \\prod_{i=1}^n S(h^{(i)})^{y(i)}(1-S(h^{(i)}))^{1-y^{(i)}}$$"
   ]
  },
  {
   "cell_type": "markdown",
   "metadata": {},
   "source": [
    "上面公式中的h为假设函数$w_0*x_0+w_1*x_1+⋯+w_n*x_n$，把上面的函数加上对数，公式如下："
   ]
  },
  {
   "cell_type": "markdown",
   "metadata": {},
   "source": [
    "$$ l(w)=log(L(w))= \\sum_{i=1}^n y^{(i)}*log(S(h^{(i)})) + (1−y^{(i)})*log(1 - S(h^{(i)}))$$"
   ]
  },
  {
   "cell_type": "markdown",
   "metadata": {},
   "source": [
    "现在，我们的目的是最大化log可能性函数，找到一个最佳的权重w。\n",
    "\n",
    "我们可以在上面的log可能性函数前加上负号，用梯度下降算法来最小化这个函数。现在，我得到了逻辑回归的cost函数如下："
   ]
  },
  {
   "cell_type": "markdown",
   "metadata": {},
   "source": [
    "$$J(w) = -\\sum_{i=1}^n {y^{(i)}*log(S(h^{(i)})) + (1−y^{(i)})*log(1 - S(h^{(i)}))}$$"
   ]
  },
  {
   "cell_type": "markdown",
   "metadata": {},
   "source": [
    "n：训练集样本总数\n",
    "\n",
    "S：sigmoid函数\n",
    "\n",
    "h：假设函数"
   ]
  },
  {
   "cell_type": "markdown",
   "metadata": {},
   "source": [
    "假设我们只有一个样本，现在我们可以把上面的cost函数拆分成分段函数如下："
   ]
  },
  {
   "cell_type": "markdown",
   "metadata": {},
   "source": [
    "$$J(w) = \\begin{cases}\n",
    "−log(S(h)), & if y=1 \\\\\n",
    "−log(1−S(h)), & if y=0 \\\\\n",
    "\\end{cases}$$"
   ]
  },
  {
   "cell_type": "markdown",
   "metadata": {},
   "source": [
    "我们把逻辑回归的cost函数做成了图像如上。当实际类别为1时，如果我们预测为1则需要很小的cost，如果我们预测为0则需要很大的cost;反过来，当实际类别为0时，如果我们预测为0则需要很小的cost，如果我们预测为1则需要很大的cost"
   ]
  },
  {
   "cell_type": "markdown",
   "metadata": {},
   "source": [
    "![Text](logistic.png)"
   ]
  },
  {
   "cell_type": "markdown",
   "metadata": {},
   "source": [
    "### Iris数据集概述"
   ]
  },
  {
   "cell_type": "markdown",
   "metadata": {},
   "source": [
    "首先，我们取得数据，下面这个链接中有数据的详细介绍，并可以下载数据集。\n",
    "\n",
    "https://archive.ics.uci.edu/ml/datasets/Iris"
   ]
  },
  {
   "cell_type": "markdown",
   "metadata": {},
   "source": [
    "从数据的说明上，我们可以看到Iris有4个特征，3个类别。\n",
    "\n",
    "但是，我们为了数据的可视化，我们只保留2个特征（sepal length和petal length）。\n",
    "\n",
    "让我们先看看数据集的散点图吧！"
   ]
  },
  {
   "cell_type": "code",
   "execution_count": 27,
   "metadata": {},
   "outputs": [
    {
     "data": {
      "image/png": "[encoded data removed]",
      "text/plain": [
       "<Figure size 432x288 with 1 Axes>"
      ]
     },
     "metadata": {
      "needs_background": "light"
     },
     "output_type": "display_data"
    }
   ],
   "source": [
    "import pandas as pd\n",
    "import matplotlib.pyplot as plt\n",
    "import numpy as np\n",
    "# 加载Iris数据集作为DataFrame对象\n",
    "df = pd.read_csv('http://archive.ics.uci.edu/ml/machine-learning-databases/iris/iris.data', header=None) \n",
    "X = df.iloc[:, [0, 2]].values # 取出2个特征，并把它们用Numpy数组表示\n",
    "plt.scatter(X[:50, 0], X[:50, 1],color='red', marker='o', label='setosa') # 前50个样本的散点图\n",
    "plt.scatter(X[50:100, 0], X[50:100, 1],color='blue', marker='x', label='versicolor') # 中间50个样本的散点图\n",
    "plt.scatter(X[100:, 0], X[100:, 1],color='green', marker='+', label='Virginica') # 后50个样本的散点图\n",
    "plt.xlabel('petal length')\n",
    "plt.ylabel('sepal length')\n",
    "plt.legend(loc=2) # 把说明放在左上角，具体请参考官方文档\n",
    "plt.show()"
   ]
  },
  {
   "cell_type": "markdown",
   "metadata": {},
   "source": [
    "### 初识scikit-learn"
   ]
  },
  {
   "cell_type": "markdown",
   "metadata": {},
   "source": [
    "有一些开源库已经把机器学习算法封装到黒盒中，别人已经替我们做了大量的工作。\n",
    "\n",
    "在实际应用中，我们主要的工作是对数据的预处理、挑选出好的特征、调试算法、多试一些算法，比较它们之间的性能、选择出好的模型。\n",
    "\n",
    "因此我并不会建议你自己去实现这些机器学习算法。那么你可能会有疑问，既然别人已经都实现了，我们还了解这些算法有什么用？\n",
    "\n",
    "就和我刚才说的一样，我们大部分的工作都是在调试算法，找到其最好的性能，如果你不了解它们的原理，你能知道怎么调试它们吗？\n",
    "\n",
    "现在我要用scikit-learn来训练感知机模型，让你了解一下scikit-learn的一些方法。\n",
    "\n",
    "下面，让我们来看看scikit-learn的强大吧！"
   ]
  },
  {
   "cell_type": "code",
   "execution_count": 48,
   "metadata": {},
   "outputs": [
    {
     "name": "stderr",
     "output_type": "stream",
     "text": [
      "/usr/local/lib/python3.7/site-packages/sklearn/linear_model/stochastic_gradient.py:152: DeprecationWarning: n_iter parameter is deprecated in 0.19 and will be removed in 0.21. Use max_iter and tol instead.\n",
      "  DeprecationWarning)\n"
     ]
    },
    {
     "data": {
      "text/plain": [
       "0.9333333333333333"
      ]
     },
     "execution_count": 48,
     "metadata": {},
     "output_type": "execute_result"
    }
   ],
   "source": [
    "import numpy as np\n",
    "from sklearn import datasets\n",
    "from sklearn.metrics import accuracy_score\n",
    "from sklearn.model_selection import train_test_split\n",
    "iris = datasets.load_iris()#由于Iris是很有名的数据集，scikit-learn已经原生自带了。\n",
    "X = iris.data[:, [2, 3]]\n",
    "y = iris.target # 标签已经转换成0，1，2了\n",
    "#为了看模型在没有见过数据集上的表现，随机拿出数据集中30%的部分做测试\n",
    "X_train, X_test, y_train, y_test = train_test_split(X, y, test_size=0.3, random_state=0) \n",
    "# 为了追求机器学习和最优化算法的最佳性能，我们将特征缩放\n",
    "from sklearn.preprocessing import StandardScaler\n",
    "sc = StandardScaler()\n",
    "sc.fit(X_train) # 估算每个特征的平均值和标准差\n",
    "sc.mean_ # 查看特征的平均值，由于Iris我们只用了两个特征，所以结果是array([ 3.82857143,  1.22666667])\n",
    "X_train_std = sc.transform(X_train)\n",
    "# 注意：这里我们要用同样的参数来标准化测试集，使得测试集和训练集之间有可比性\n",
    "X_test_std = sc.transform(X_test)\n",
    "# 训练感知机模型\n",
    "from sklearn.linear_model import Perceptron\n",
    "# n_iter：可以理解成梯度下降中迭代的次数\n",
    "# eta0：可以理解成梯度下降中的学习率\n",
    "# random_state：设置随机种子的，为了每次迭代都有相同的训练集顺序\n",
    "ppn = Perceptron(n_iter=30, eta0=0.05, random_state=0)\n",
    "ppn.fit(X_train_std, y_train)\n",
    "# 分类测试集，这将返回一个测试结果的数组\n",
    "y_pred = ppn.predict(X_test_std)\n",
    "# 计算模型在测试集上的准确性，我的结果为0.9，还不错\n",
    "accuracy_score(y_test, y_pred)"
   ]
  },
  {
   "cell_type": "markdown",
   "metadata": {},
   "source": [
    "注意：如果上面的学习率过大，算法可能会越过全局最小值，收敛地很慢，甚至有可能发散。\n",
    "     如果学习率过小，算法需要很多次迭代才能收敛，这会使学习过程很漫长。"
   ]
  },
  {
   "cell_type": "markdown",
   "metadata": {},
   "source": [
    "### scikit-learn实现逻辑回归"
   ]
  },
  {
   "cell_type": "markdown",
   "metadata": {},
   "source": [
    "scikit-learn的逻辑回归中有很多调节的参数，如果你不太熟悉，请参考下面的文档。\n",
    "http://scikit-learn.org/stable/modules/generated/sklearn.linear_model.LogisticRegression.html"
   ]
  },
  {
   "cell_type": "code",
   "execution_count": 86,
   "metadata": {},
   "outputs": [
    {
     "name": "stderr",
     "output_type": "stream",
     "text": [
      "/usr/local/lib/python3.7/site-packages/sklearn/linear_model/logistic.py:433: FutureWarning: Default solver will be changed to 'lbfgs' in 0.22. Specify a solver to silence this warning.\n",
      "  FutureWarning)\n",
      "/usr/local/lib/python3.7/site-packages/sklearn/linear_model/logistic.py:460: FutureWarning: Default multi_class will be changed to 'auto' in 0.22. Specify the multi_class option to silence this warning.\n",
      "  \"this warning.\", FutureWarning)\n",
      "'c' argument looks like a single numeric RGB or RGBA sequence, which should be avoided as value-mapping will have precedence in case its length matches with 'x' & 'y'.  Please use a 2-D array with a single row if you really want to specify the same RGB or RGBA value for all points.\n",
      "'c' argument looks like a single numeric RGB or RGBA sequence, which should be avoided as value-mapping will have precedence in case its length matches with 'x' & 'y'.  Please use a 2-D array with a single row if you really want to specify the same RGB or RGBA value for all points.\n",
      "'c' argument looks like a single numeric RGB or RGBA sequence, which should be avoided as value-mapping will have precedence in case its length matches with 'x' & 'y'.  Please use a 2-D array with a single row if you really want to specify the same RGB or RGBA value for all points.\n"
     ]
    },
    {
     "data": {
      "image/png": "[encoded data removed]",
      "text/plain": [
       "<Figure size 432x288 with 1 Axes>"
      ]
     },
     "metadata": {
      "needs_background": "light"
     },
     "output_type": "display_data"
    }
   ],
   "source": [
    "import numpy as np\n",
    "from sklearn import datasets\n",
    "import matplotlib.pyplot as plt\n",
    "from matplotlib.colors import ListedColormap\n",
    "from sklearn.model_selection import train_test_split\n",
    "def plot_decision_regions(X, y, classifier, test_idx=None, resolution=0.02):\n",
    "    # setup marker generator and color map\n",
    "    markers = ('s', 'x', 'o', '^', 'v')\n",
    "    colors = ('red', 'blue', 'lightgreen', 'gray', 'cyan')\n",
    "    cmap = ListedColormap(colors[:len(np.unique(y))])\n",
    "    # plot the decision surface\n",
    "    x1_min, x1_max = X[:, 0].min() - 1, X[:, 0].max() + 1\n",
    "    x2_min, x2_max = X[:, 1].min() - 1, X[:, 1].max() + 1\n",
    "    xx1, xx2 = np.meshgrid(np.arange(x1_min, x1_max, resolution), np.arange(x2_min, x2_max, resolution))\n",
    "    Z = classifier.predict(np.array([xx1.ravel(), xx2.ravel()]).T)\n",
    "    Z = Z.reshape(xx1.shape)\n",
    "    plt.contourf(xx1, xx2, Z, alpha=0.4, cmap=cmap)\n",
    "    plt.xlim(xx1.min(), xx1.max())\n",
    "    plt.ylim(xx2.min(), xx2.max())\n",
    "    # plot class samples\n",
    "    for idx, cl in enumerate(np.unique(y)):\n",
    "        plt.scatter(x=X[y == cl, 0], y=X[y == cl, 1],alpha=0.8, c=cmap(idx),marker=markers[idx], label=cl)\n",
    "    # highlight test samples\n",
    "    if test_idx:\n",
    "        X_test, y_test = X[test_idx, :], y[test_idx]\n",
    "        plt.scatter(X_test[:, 0], X_test[:, 1], c='', alpha=1.0, linewidth=1, marker='o', s=55, label='test set')\n",
    "\n",
    "iris = datasets.load_iris()\n",
    "X = iris.data[:, [2, 3]]\n",
    "y = iris.target\n",
    "X_train, X_test, y_train, y_test = train_test_split(X, y, test_size=0.3, random_state=0)\n",
    "from sklearn.preprocessing import StandardScaler\n",
    "sc = StandardScaler()\n",
    "sc.fit(X_train)\n",
    "X_train_std = sc.transform(X_train)\n",
    "X_test_std = sc.transform(X_test)\n",
    "\n",
    "X_combined_std = np.vstack((X_train_std, X_test_std))\n",
    "y_combined = np.hstack((y_train, y_test))\n",
    "from sklearn.linear_model import LogisticRegression\n",
    "lr = LogisticRegression(C=10000000, random_state=10)\n",
    "lr.fit(X_train_std, y_train)\n",
    "plot_decision_regions(X_combined_std, y_combined, classifier=lr, test_idx = range(105,150))"
   ]
  }
 ],
 "metadata": {
  "kernelspec": {
   "display_name": "Python 3",
   "language": "python",
   "name": "python3"
  },
  "language_info": {
   "codemirror_mode": {
    "name": "ipython",
    "version": 3
   },
   "file_extension": ".py",
   "mimetype": "text/x-python",
   "name": "python",
   "nbconvert_exporter": "python",
   "pygments_lexer": "ipython3",
   "version": "3.7.1"
  }
 },
 "nbformat": 4,
 "nbformat_minor": 2
}
